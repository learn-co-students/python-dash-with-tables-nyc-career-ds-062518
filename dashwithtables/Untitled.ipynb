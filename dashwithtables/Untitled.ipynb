{
 "cells": [
  {
   "cell_type": "code",
   "execution_count": 1,
   "metadata": {},
   "outputs": [
    {
     "data": {
      "text/plain": [
       "'/Users/shachiakyaagba/python-dash-with-tables-nyc-career-ds-062518/dashwithtables'"
      ]
     },
     "execution_count": 1,
     "metadata": {},
     "output_type": "execute_result"
    }
   ],
   "source": [
    "pwd"
   ]
  },
  {
   "cell_type": "code",
   "execution_count": 2,
   "metadata": {},
   "outputs": [
    {
     "ename": "ModuleNotFoundError",
     "evalue": "No module named 'food_interest_data.py'; 'food_interest_data' is not a package",
     "output_type": "error",
     "traceback": [
      "\u001b[0;31m---------------------------------------------------------------------------\u001b[0m",
      "\u001b[0;31mModuleNotFoundError\u001b[0m                       Traceback (most recent call last)",
      "\u001b[0;32m<ipython-input-2-76b86c51c56f>\u001b[0m in \u001b[0;36m<module>\u001b[0;34m()\u001b[0m\n\u001b[0;32m----> 1\u001b[0;31m \u001b[0;32mfrom\u001b[0m \u001b[0mfood_interest_data\u001b[0m\u001b[0;34m.\u001b[0m\u001b[0mpy\u001b[0m \u001b[0;32mimport\u001b[0m \u001b[0;34m*\u001b[0m\u001b[0;34m\u001b[0m\u001b[0m\n\u001b[0m",
      "\u001b[0;31mModuleNotFoundError\u001b[0m: No module named 'food_interest_data.py'; 'food_interest_data' is not a package"
     ]
    }
   ],
   "source": [
    "from food_interest_data.py import *"
   ]
  },
  {
   "cell_type": "code",
   "execution_count": 3,
   "metadata": {},
   "outputs": [],
   "source": [
    "# importing the os (operating system module)\n",
    "import os\n",
    "# using the os module to get the current working directory\n",
    "# in order get the proper path for the excel file\n",
    "cwd = os.getcwd()\n",
    "\n",
    "# importing pandas module to read the excel file and extract the data\n",
    "import pandas\n",
    "\n",
    "# using pandas to read the excel file and giving the names of the columns\n",
    "if cwd.endswith('/test'):\n",
    "    excel_data = pandas.read_excel('../ramenPhoSobaInterest.xlsx', names=[\"Country\", \"Pho\", \"Ramen\", \"Soba\"])\n",
    "else:\n",
    "    excel_data = pandas.read_excel(cwd+'/ramenPhoSobaInterest.xlsx', names=[\"Country\", \"Pho\", \"Ramen\", \"Soba\"])\n",
    "\n",
    "# removing the first line of data that contains the headers\n",
    "# and returning the remating data in a list of dictionaries\n",
    "data = excel_data.to_dict('records')[1:]\n"
   ]
  },
  {
   "cell_type": "code",
   "execution_count": 4,
   "metadata": {},
   "outputs": [
    {
     "data": {
      "text/plain": [
       "[{'Country': 'Japan', 'Pho': 0.04, 'Ramen': 0.72, 'Soba': 0.24},\n",
       " {'Country': 'Taiwan', 'Pho': 0.04, 'Ramen': 0.91, 'Soba': 0.05},\n",
       " {'Country': 'Singapore', 'Pho': 0.16, 'Ramen': 0.74, 'Soba': 0.1},\n",
       " {'Country': 'Hong Kong', 'Pho': 0.14, 'Ramen': 0.75, 'Soba': 0.11},\n",
       " {'Country': 'Philippines', 'Pho': 0.18, 'Ramen': 0.78, 'Soba': 0.04},\n",
       " {'Country': 'Canada', 'Pho': 0.6, 'Ramen': 0.34, 'Soba': 0.06},\n",
       " {'Country': 'United States', 'Pho': 0.51, 'Ramen': 0.45, 'Soba': 0.04},\n",
       " {'Country': 'Thailand', 'Pho': 0.22, 'Ramen': 0.71, 'Soba': 0.07},\n",
       " {'Country': 'Australia', 'Pho': 0.46, 'Ramen': 0.44, 'Soba': 0.1},\n",
       " {'Country': 'Indonesia', 'Pho': 0.21, 'Ramen': 0.73, 'Soba': 0.06},\n",
       " {'Country': 'Malaysia', 'Pho': 0.18, 'Ramen': 0.71, 'Soba': 0.11},\n",
       " {'Country': 'South Korea', 'Pho': 0.24, 'Ramen': 0.56, 'Soba': 0.2},\n",
       " {'Country': 'Spain', 'Pho': 0.14, 'Ramen': 0.74, 'Soba': 0.12},\n",
       " {'Country': 'United Kingdom', 'Pho': 0.39, 'Ramen': 0.49, 'Soba': 0.12},\n",
       " {'Country': 'India', 'Pho': 0.74, 'Ramen': 0.2, 'Soba': 0.06},\n",
       " {'Country': 'Italy', 'Pho': 0.17, 'Ramen': 0.73, 'Soba': 0.1},\n",
       " {'Country': 'China', 'Pho': 0.19, 'Ramen': 0.62, 'Soba': 0.19},\n",
       " {'Country': 'Mexico', 'Pho': 0.2, 'Ramen': 0.73, 'Soba': 0.07},\n",
       " {'Country': 'France', 'Pho': 0.51, 'Ramen': 0.39, 'Soba': 0.1},\n",
       " {'Country': 'Netherlands', 'Pho': 0.34, 'Ramen': 0.54, 'Soba': 0.12},\n",
       " {'Country': 'Germany', 'Pho': 0.39, 'Ramen': 0.51, 'Soba': 0.1},\n",
       " {'Country': 'Poland', 'Pho': 0.38, 'Ramen': 0.53, 'Soba': 0.09},\n",
       " {'Country': 'Russia', 'Pho': 0.34, 'Ramen': 0.44, 'Soba': 0.22},\n",
       " {'Country': 'Brazil', 'Pho': 0.16, 'Ramen': 0.64, 'Soba': 0.2}]"
      ]
     },
     "execution_count": 4,
     "metadata": {},
     "output_type": "execute_result"
    }
   ],
   "source": [
    "data"
   ]
  },
  {
   "cell_type": "code",
   "execution_count": null,
   "metadata": {},
   "outputs": [],
   "source": []
  }
 ],
 "metadata": {
  "kernelspec": {
   "display_name": "Python 3",
   "language": "python",
   "name": "python3"
  },
  "language_info": {
   "codemirror_mode": {
    "name": "ipython",
    "version": 3
   },
   "file_extension": ".py",
   "mimetype": "text/x-python",
   "name": "python",
   "nbconvert_exporter": "python",
   "pygments_lexer": "ipython3",
   "version": "3.6.5"
  }
 },
 "nbformat": 4,
 "nbformat_minor": 2
}
